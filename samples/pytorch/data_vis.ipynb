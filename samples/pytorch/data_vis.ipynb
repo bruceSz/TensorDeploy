{
 "cells": [
  {
   "cell_type": "code",
   "execution_count": 1,
   "metadata": {},
   "outputs": [
    {
     "name": "stdout",
     "output_type": "stream",
     "text": [
      "train lines:  16551\n",
      "\n",
      "index is: 15937 , total is: 16551\n",
      "img type:  <class 'numpy.ndarray'>\n",
      "shape of img:  (600, 600, 3)\n",
      "index is: 4837 , total is: 16551\n",
      "img type:  <class 'numpy.ndarray'>\n",
      "shape of img:  (600, 600, 3)\n",
      "index is: 14046 , total is: 16551\n",
      "img type:  <class 'numpy.ndarray'>\n",
      "shape of img:  (600, 600, 3)\n"
     ]
    }
   ],
   "source": [
    "import sys\n",
    "import os\n",
    "import time\n",
    "\n",
    "import numpy as np\n",
    "from IPython.display import display\n",
    "from PIL import Image\n",
    "\n",
    "\n",
    "\n",
    "sys.path.append(os.path.dirname(os.path.abspath(sys.path[0])))\n",
    "from faster_rcnn import dataset\n",
    "from faster_rcnn.utils import get_classes\n",
    "from faster_rcnn.frcnn import FasterRCNN\n",
    "\n",
    "train_anno_path = \"data/voc/2007_train.txt\"\n",
    "train_lines = []\n",
    "with open(train_anno_path, 'r') as f:\n",
    "    train_lines = f.readlines()\n",
    "print(\"train lines: \", len(train_lines))\n",
    "#print(\"train samples:\", train_lines[0])\n",
    "\n",
    "input_shape = [600, 600]\n",
    "train_dataset = dataset.FasterRCNNDataSet(train_lines, input_shape, train=True)\n",
    "\n",
    "print(\"\")\n",
    "target_index = [15937, 4837, 14046]\n",
    "for index in target_index:\n",
    "    img, box, label = train_dataset[index]\n",
    "    print(\"img type: \", type(img))\n",
    "    #img.transpose(0,2)\n",
    "    def recover_img(img):\n",
    "        img *= 255.\n",
    "        return img\n",
    "    img = np.transpose(recover_img(np.array(img, dtype=np.float32)),(1,2,0)).astype(np.uint8)\n",
    "    print(\"shape of img: \", img.shape)\n",
    "    #display(Image.fromarray(img))\n",
    "#     print(\"img shape: \", img.shape)\n",
    "#     print(\"box shape: \", box)\n",
    "#     print(\"label shape: \", label)\n",
    "#     print(\"\")\n",
    "\n",
    "classes_path = \"data/voc/classes_voc.txt\"\n",
    "\n",
    "class_names, num_classes = get_classes(classes_path)\n",
    "anchor_size = [ 8, 16, 32]\n",
    "backbone = \"resnet50\"\n",
    "pretrained=False\n",
    "model_path = \"model_checkpoints/voc_weights_resnet.pth\"\n",
    "model = FasterRCNN(num_classes, anchor_scales=anchor_size, backbone=backbone, pretrained=pretrained)"
   ]
  },
  {
   "cell_type": "code",
   "execution_count": null,
   "metadata": {},
   "outputs": [],
   "source": []
  }
 ],
 "metadata": {
  "kernelspec": {
   "display_name": "3d_process",
   "language": "python",
   "name": "python3"
  },
  "language_info": {
   "codemirror_mode": {
    "name": "ipython",
    "version": 3
   },
   "file_extension": ".py",
   "mimetype": "text/x-python",
   "name": "python",
   "nbconvert_exporter": "python",
   "pygments_lexer": "ipython3",
   "version": "3.9.7"
  },
  "orig_nbformat": 4
 },
 "nbformat": 4,
 "nbformat_minor": 2
}
